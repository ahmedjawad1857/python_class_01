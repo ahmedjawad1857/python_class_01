{
 "cells": [
  {
   "cell_type": "markdown",
   "metadata": {},
   "source": [
    "I'm so happy to start python class with static type"
   ]
  },
  {
   "cell_type": "code",
   "execution_count": 1,
   "metadata": {},
   "outputs": [
    {
     "name": "stdout",
     "output_type": "stream",
     "text": [
      "Pakistan\n",
      "Zinda bad\n",
      "Zinda bad\n",
      "Zinda bad\n",
      "Zinda bad\n",
      "Zinda bad\n",
      "Zinda bad\n",
      "Zinda bad\n",
      "Zinda bad\n",
      "Zinda bad\n"
     ]
    }
   ],
   "source": [
    "print(\"Pakistan\") # 2 sec\n",
    "print(\"Zinda bad\")\n",
    "print(\"Zinda bad\")\n",
    "print(\"Zinda bad\")\n",
    "print(\"Zinda bad\") # 4 hours\n",
    "print(\"Zinda bad\")\n",
    "print(\"Zinda bad\")\n",
    "print(\"Zinda bad\")\n",
    "print(\"Zinda bad\")\n",
    "print(\"Zinda bad\")"
   ]
  },
  {
   "cell_type": "code",
   "execution_count": 2,
   "metadata": {},
   "outputs": [
    {
     "name": "stdout",
     "output_type": "stream",
     "text": [
      "Hello World\n"
     ]
    }
   ],
   "source": [
    "print(\"Hello World\")"
   ]
  },
  {
   "cell_type": "code",
   "execution_count": 3,
   "metadata": {},
   "outputs": [
    {
     "name": "stdout",
     "output_type": "stream",
     "text": [
      "Zinda bad abc\n",
      "Zinda bad 7 \n",
      "Zinda bad 8\n",
      "Zinda bad 900\n",
      "Zinda bad 10\n"
     ]
    }
   ],
   "source": [
    "print(\"Zinda bad abc\")\n",
    "print(\"Zinda bad 7 \")\n",
    "print(\"Zinda bad 8\")\n",
    "print(\"Zinda bad 900\")\n",
    "print(\"Zinda bad 10\")"
   ]
  },
  {
   "cell_type": "markdown",
   "metadata": {},
   "source": [
    "String"
   ]
  },
  {
   "cell_type": "code",
   "execution_count": 4,
   "metadata": {},
   "outputs": [
    {
     "name": "stdout",
     "output_type": "stream",
     "text": [
      "Muhammad Qasim\n",
      "<class 'str'>\n",
      "1314021199536\n",
      "['capitalize', 'casefold', 'center', 'count', 'encode', 'endswith', 'expandtabs', 'find', 'format', 'format_map', 'index', 'isalnum', 'isalpha', 'isascii', 'isdecimal', 'isdigit', 'isidentifier', 'islower', 'isnumeric', 'isprintable', 'isspace', 'istitle', 'isupper', 'join', 'ljust', 'lower', 'lstrip', 'maketrans', 'partition', 'removeprefix', 'removesuffix', 'replace', 'rfind', 'rindex', 'rjust', 'rpartition', 'rsplit', 'rstrip', 'split', 'splitlines', 'startswith', 'strip', 'swapcase', 'title', 'translate', 'upper', 'zfill']\n"
     ]
    }
   ],
   "source": [
    "name = \"Muhammad Qasim\"\n",
    "print(name) # print\n",
    "print(type(name)) # type\n",
    "print(id(name)) # physcial address\n",
    "print([i for i in dir(name) if \"__\" not in i]) # methods and attributes"
   ]
  },
  {
   "cell_type": "code",
   "execution_count": 5,
   "metadata": {},
   "outputs": [
    {
     "name": "stdout",
     "output_type": "stream",
     "text": [
      "700\n",
      "<class 'int'>\n",
      "1314022375856\n"
     ]
    }
   ],
   "source": [
    "name = \"Muhammad Qasim\"\n",
    "name = 700\n",
    "print(name) # print\n",
    "print(type(name)) # type\n",
    "print(id(name)) # physcial address"
   ]
  },
  {
   "cell_type": "code",
   "execution_count": 6,
   "metadata": {},
   "outputs": [
    {
     "name": "stdout",
     "output_type": "stream",
     "text": [
      "Muhammad Qasim\n"
     ]
    }
   ],
   "source": [
    "name : str = \"Muhammad Qasim\"\n",
    "print(name)"
   ]
  },
  {
   "cell_type": "code",
   "execution_count": 7,
   "metadata": {},
   "outputs": [
    {
     "name": "stdout",
     "output_type": "stream",
     "text": [
      "700\n"
     ]
    }
   ],
   "source": [
    "name : str = 700\n",
    "print(name)\n",
    "# it doesn't show error due to it convert it in original python if type doesn't match like typescript do"
   ]
  },
  {
   "cell_type": "code",
   "execution_count": 8,
   "metadata": {},
   "outputs": [
    {
     "name": "stdout",
     "output_type": "stream",
     "text": [
      "Muhammad Qasim\n",
      "<class 'str'>\n",
      "1314021132784\n",
      "['capitalize', 'casefold', 'center', 'count', 'encode', 'endswith', 'expandtabs', 'find', 'format', 'format_map', 'index', 'isalnum', 'isalpha', 'isascii', 'isdecimal', 'isdigit', 'isidentifier', 'islower', 'isnumeric', 'isprintable', 'isspace', 'istitle', 'isupper', 'join', 'ljust', 'lower', 'lstrip', 'maketrans', 'partition', 'removeprefix', 'removesuffix', 'replace', 'rfind', 'rindex', 'rjust', 'rpartition', 'rsplit', 'rstrip', 'split', 'splitlines', 'startswith', 'strip', 'swapcase', 'title', 'translate', 'upper', 'zfill']\n"
     ]
    }
   ],
   "source": [
    "name : str = \"Muhammad Qasim\"\n",
    "print(name) # print\n",
    "print(type(name)) # type\n",
    "print(id(name)) # physcial address\n",
    "print([i for i in dir(name) if \"__\" not in i]) # methods and attributes"
   ]
  },
  {
   "cell_type": "markdown",
   "metadata": {},
   "source": [
    "DataTypes\n"
   ]
  },
  {
   "cell_type": "code",
   "execution_count": 9,
   "metadata": {},
   "outputs": [
    {
     "name": "stdout",
     "output_type": "stream",
     "text": [
      "2000\n",
      "<class 'int'>\n",
      "1314022375984\n",
      "['as_integer_ratio', 'bit_count', 'bit_length', 'conjugate', 'denominator', 'from_bytes', 'imag', 'is_integer', 'numerator', 'real', 'to_bytes']\n"
     ]
    }
   ],
   "source": [
    "name : int = 2000\n",
    "print(name) # print\n",
    "print(type(name)) # type\n",
    "print(id(name)) # physcial address\n",
    "print([i for i in dir(name) if \"__\" not in i]) # methods and attributes"
   ]
  },
  {
   "cell_type": "code",
   "execution_count": 10,
   "metadata": {},
   "outputs": [
    {
     "name": "stdout",
     "output_type": "stream",
     "text": [
      "7.0\n",
      "<class 'float'>\n",
      "1314020564752\n",
      "['as_integer_ratio', 'conjugate', 'fromhex', 'hex', 'imag', 'is_integer', 'real']\n"
     ]
    }
   ],
   "source": [
    "name : float = 7.0\n",
    "print(name) # print\n",
    "print(type(name)) # type\n",
    "print(id(name)) # physcial address\n",
    "print([i for i in dir(name) if \"__\" not in i]) # methods and attributes"
   ]
  },
  {
   "cell_type": "code",
   "execution_count": 11,
   "metadata": {},
   "outputs": [
    {
     "name": "stdout",
     "output_type": "stream",
     "text": [
      "True\n",
      "<class 'bool'>\n",
      "140717126585040\n",
      "['as_integer_ratio', 'bit_count', 'bit_length', 'conjugate', 'denominator', 'from_bytes', 'imag', 'is_integer', 'numerator', 'real', 'to_bytes']\n"
     ]
    }
   ],
   "source": [
    "name : bool = True\n",
    "print(name) # print\n",
    "print(type(name)) # type\n",
    "print(id(name)) # physcial address\n",
    "print([i for i in dir(name) if \"__\" not in i]) # methods and attributes"
   ]
  },
  {
   "cell_type": "code",
   "execution_count": 12,
   "metadata": {},
   "outputs": [
    {
     "name": "stdout",
     "output_type": "stream",
     "text": [
      "['a', 'b', 'c']\n",
      "<class 'list'>\n",
      "1314021202688\n",
      "['append', 'clear', 'copy', 'count', 'extend', 'index', 'insert', 'pop', 'remove', 'reverse', 'sort']\n"
     ]
    }
   ],
   "source": [
    "name : list[str] = ['a','b','c']\n",
    "print(name) # print\n",
    "print(type(name)) # type\n",
    "print(id(name)) # physcial address\n",
    "print([i for i in dir(name) if \"__\" not in i]) # methods and attributes"
   ]
  },
  {
   "cell_type": "code",
   "execution_count": 13,
   "metadata": {},
   "outputs": [
    {
     "name": "stdout",
     "output_type": "stream",
     "text": [
      "('pakistan', 7, 2.0)\n",
      "<class 'tuple'>\n",
      "1314021106816\n",
      "['count', 'index']\n"
     ]
    }
   ],
   "source": [
    "name : tuple[str,int,float] = ('pakistan',7,2.0)\n",
    "print(name) # print\n",
    "print(type(name)) # type\n",
    "print(id(name)) # physcial address\n",
    "print([i for i in dir(name) if \"__\" not in i]) # methods and attributes"
   ]
  },
  {
   "cell_type": "code",
   "execution_count": 14,
   "metadata": {},
   "outputs": [
    {
     "name": "stdout",
     "output_type": "stream",
     "text": [
      "('pakistan', 7, 'aaa')\n",
      "<class 'tuple'>\n",
      "1314021102272\n",
      "['count', 'index']\n"
     ]
    }
   ],
   "source": [
    "name : tuple[str,int,float] = ('pakistan',7,\"aaa\")\n",
    "print(name) # print\n",
    "print(type(name)) # type\n",
    "print(id(name)) # physcial address\n",
    "print([i for i in dir(name) if \"__\" not in i]) # methods and attributes"
   ]
  },
  {
   "cell_type": "code",
   "execution_count": 15,
   "metadata": {},
   "outputs": [
    {
     "name": "stdout",
     "output_type": "stream",
     "text": [
      "Pakistan\n",
      "<class 'str'>\n",
      "1314003746224\n",
      "['capitalize', 'casefold', 'center', 'count', 'encode', 'endswith', 'expandtabs', 'find', 'format', 'format_map', 'index', 'isalnum', 'isalpha', 'isascii', 'isdecimal', 'isdigit', 'isidentifier', 'islower', 'isnumeric', 'isprintable', 'isspace', 'istitle', 'isupper', 'join', 'ljust', 'lower', 'lstrip', 'maketrans', 'partition', 'removeprefix', 'removesuffix', 'replace', 'rfind', 'rindex', 'rjust', 'rpartition', 'rsplit', 'rstrip', 'split', 'splitlines', 'startswith', 'strip', 'swapcase', 'title', 'translate', 'upper', 'zfill']\n"
     ]
    }
   ],
   "source": [
    "name : any = \"Pakistan\"\n",
    "print(name) # print\n",
    "print(type(name)) # type\n",
    "print(id(name)) # physcial address\n",
    "print([i for i in dir(name) if \"__\" not in i]) # methods and attributes"
   ]
  }
 ],
 "metadata": {
  "kernelspec": {
   "display_name": "Python 3",
   "language": "python",
   "name": "python3"
  },
  "language_info": {
   "codemirror_mode": {
    "name": "ipython",
    "version": 3
   },
   "file_extension": ".py",
   "mimetype": "text/x-python",
   "name": "python",
   "nbconvert_exporter": "python",
   "pygments_lexer": "ipython3",
   "version": "3.12.0"
  }
 },
 "nbformat": 4,
 "nbformat_minor": 2
}
